{
 "cells": [
  {
   "cell_type": "code",
   "execution_count": 2,
   "metadata": {},
   "outputs": [],
   "source": [
    "import mysql.connector as dbs #importing database\n",
    "\n",
    "database = dbs.connect(\n",
    "    host=\"localhost\",\n",
    "    user=\"root\",\n",
    "    password=\"\",\n",
    "    database = \"pythonclass2pm\"\n",
    ")\n",
    "db = database.cursor()"
   ]
  },
  {
   "cell_type": "code",
   "execution_count": 3,
   "metadata": {},
   "outputs": [
    {
     "name": "stdout",
     "output_type": "stream",
     "text": [
      "(1, 'Ram', 78, 67, 90, 87, 80, 400, 80.0, 'A')\n",
      "(2, 'Shyam', 80, 77, 90, 87, 80, 420, 84.0, 'A')\n",
      "(3, 'Nabin', 78, 89, 78, 67, 80, 440, 84.0, 'A')\n",
      "(4, 'Nabina', 78, 89, 78, 67, 80, 440, 84.0, 'A')\n"
     ]
    }
   ],
   "source": [
    "db.execute(\"SELECT * FROM student\")\n",
    "result =db.fetchall()\n",
    "for x in result:\n",
    "    print(x)\n"
   ]
  },
  {
   "cell_type": "code",
   "execution_count": 7,
   "metadata": {},
   "outputs": [
    {
     "name": "stdout",
     "output_type": "stream",
     "text": [
      "(1, 'Ram', 78, 67, 90, 87, 80, 400, 80.0, 'A')\n"
     ]
    }
   ],
   "source": [
    "db.execute(\"SELECT * FROM student WHERE name = 'ram' \")\n",
    "result =db.fetchall()\n",
    "for x in result:\n",
    "    print(x)\n"
   ]
  },
  {
   "cell_type": "code",
   "execution_count": 13,
   "metadata": {},
   "outputs": [
    {
     "name": "stdout",
     "output_type": "stream",
     "text": [
      "(1, 'Ram', 78, 67, 90, 87, 80, 400, 80.0, 'A')\n"
     ]
    }
   ],
   "source": [
    "db.execute(\"SELECT * FROM student WHERE name = 'Ram' or per < 84.0 \")\n",
    "result =db.fetchall()\n",
    "for x in result:\n",
    "    print(x)\n"
   ]
  },
  {
   "cell_type": "code",
   "execution_count": 14,
   "metadata": {},
   "outputs": [],
   "source": [
    "sql = '''INSERT INTO student(sn,name,physics,chemistry,math,english,nepali,total, per,grade)\n",
    "VALUES (6,'Hari',70,90,87,60,89,400,80,'A')'''\n",
    "db.execute(sql)\n",
    "database.commit()"
   ]
  },
  {
   "cell_type": "code",
   "execution_count": null,
   "metadata": {},
   "outputs": [],
   "source": [
    "sql = '''INSERT INTO student(sn,name,physics,chemistry,math,english,nepali,total, per,grade)\n",
    "VALUES (,'Hari',70,90,87,60,89,400,80,'A')'''\n",
    "db.execute(sql)\n",
    "database.commit()"
   ]
  },
  {
   "cell_type": "code",
   "execution_count": null,
   "metadata": {},
   "outputs": [],
   "source": [
    "# # WAP to insert data in database takeing data from user\n",
    "# Update\n",
    "# Delete"
   ]
  }
 ],
 "metadata": {
  "kernelspec": {
   "display_name": "Python 3 (ipykernel)",
   "language": "python",
   "name": "python3"
  },
  "language_info": {
   "codemirror_mode": {
    "name": "ipython",
    "version": 3
   },
   "file_extension": ".py",
   "mimetype": "text/x-python",
   "name": "python",
   "nbconvert_exporter": "python",
   "pygments_lexer": "ipython3",
   "version": "3.7.1"
  }
 },
 "nbformat": 4,
 "nbformat_minor": 2
}
