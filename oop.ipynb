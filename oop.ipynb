{
 "cells": [
  {
   "cell_type": "code",
   "execution_count": 8,
   "metadata": {},
   "outputs": [
    {
     "name": "stdout",
     "output_type": "stream",
     "text": [
      "Hello Wold\n"
     ]
    }
   ],
   "source": [
    "class Hello:                #class\n",
    "    print(\"Hello Wold\")\n",
    "    \n",
    "# obj = Hello()               #object"
   ]
  },
  {
   "cell_type": "code",
   "execution_count": 6,
   "metadata": {},
   "outputs": [
    {
     "name": "stdout",
     "output_type": "stream",
     "text": [
      "Hello World\n"
     ]
    }
   ],
   "source": [
    "class Hello:                      #class\n",
    "    \n",
    "    def hello(s):              #method\n",
    "        print(\"Hello World\")\n",
    "        \n",
    "obj = Hello()                     #object\n",
    "obj.hello()"
   ]
  },
  {
   "cell_type": "code",
   "execution_count": 7,
   "metadata": {},
   "outputs": [
    {
     "name": "stdout",
     "output_type": "stream",
     "text": [
      "Hello World\n"
     ]
    }
   ],
   "source": [
    "class Hello:                      #class\n",
    "    @staticmethod\n",
    "    def hello():              #method\n",
    "        print(\"Hello World\")\n",
    "        \n",
    "obj = Hello()                     #object\n",
    "obj.hello()"
   ]
  },
  {
   "cell_type": "code",
   "execution_count": 10,
   "metadata": {},
   "outputs": [
    {
     "name": "stdout",
     "output_type": "stream",
     "text": [
      "Enter l = 10\n",
      "Enter b = 5\n",
      "50\n"
     ]
    }
   ],
   "source": [
    "class Cal:                      #class\n",
    "    @staticmethod\n",
    "    def area():              #method\n",
    "        l = int(input(\"Enter l = \"))\n",
    "        b = int(input(\"Enter b = \"))\n",
    "        a = l*b\n",
    "        print(a)\n",
    "        \n",
    "obj = Cal()                     #object\n",
    "obj.area()"
   ]
  },
  {
   "cell_type": "code",
   "execution_count": null,
   "metadata": {},
   "outputs": [],
   "source": [
    "class Cal:                      #class\n",
    "    def area(self,l,b):              #method\n",
    "        a = l*b\n",
    "        print(a)\n",
    "    def volume(self,l,b,h):\n",
    "        v = l*b*h\n",
    "        print(v)\n",
    "        \n",
    "l = int(input(\"Enter l = \"))\n",
    "b = int(input(\"Enter b = \"))\n",
    "h = int(input(\"Enter h = \"))\n",
    "obj = Cal()                     #object\n",
    "obj.area(l,b)\n",
    "obj.volume(l,b,h)"
   ]
  },
  {
   "cell_type": "code",
   "execution_count": 4,
   "metadata": {},
   "outputs": [
    {
     "name": "stdout",
     "output_type": "stream",
     "text": [
      "Enter l = 10\n",
      "Enter b = 5\n",
      "50\n",
      "10 5\n"
     ]
    }
   ],
   "source": [
    "class Area:\n",
    "    def __init__(self):\n",
    "        self.l = int(input(\"Enter l = \"))\n",
    "        self.b = int(input(\"Enter b = \"))\n",
    "    def area(this):\n",
    "        a = this.l*this.b\n",
    "        print(a)\n",
    "    \n",
    "obj = Area()\n",
    "obj.area()\n",
    "print(obj.l,obj.b)"
   ]
  },
  {
   "cell_type": "code",
   "execution_count": null,
   "metadata": {},
   "outputs": [],
   "source": [
    "class Area:\n",
    "    def __init__(self):\n",
    "        self.l = int(input(\"Enter l = \"))\n",
    "        self.b = int(input(\"Enter b = \"))\n",
    "    def volume(this,h):\n",
    "        a = this.l*this.b*h\n",
    "        print(a)\n",
    "    \n",
    "obj = Area()\n",
    "obj.volume(2)\n",
    "print(obj.l,obj.b)"
   ]
  },
  {
   "cell_type": "code",
   "execution_count": 1,
   "metadata": {},
   "outputs": [
    {
     "name": "stdout",
     "output_type": "stream",
     "text": [
      "Enter l = 100\n",
      "Enter b = 50\n",
      "Enter h = 5\n",
      "25000\n",
      "100 50\n"
     ]
    }
   ],
   "source": [
    "class Volume:\n",
    "    def __init__(self,l,b,h):\n",
    "        self.l = l\n",
    "        self.b = b\n",
    "        self.h = h\n",
    "        \n",
    "    def volume(this):\n",
    "        a = this.l*this.b*this.h\n",
    "        print(a)\n",
    "\n",
    "l = int(input(\"Enter l = \"))\n",
    "b = int(input(\"Enter b = \"))\n",
    "h = int(input(\"Enter h = \"))\n",
    "obj = Volume(l,b,h)\n",
    "\n",
    "obj.volume()\n",
    "print(obj.l,obj.b)"
   ]
  },
  {
   "cell_type": "code",
   "execution_count": 2,
   "metadata": {},
   "outputs": [
    {
     "name": "stdout",
     "output_type": "stream",
     "text": [
      "Enter l = 100\n",
      "Enter b = 20\n",
      "Enter h = 5\n",
      "10000\n",
      "100 20\n"
     ]
    }
   ],
   "source": [
    "class Volume:\n",
    "    def __init__(self,l,b,h):\n",
    "        self.l = l\n",
    "        self.b = b\n",
    "        self.h = h\n",
    "        \n",
    "    def volume(this):\n",
    "        v = this.l*this.b*this.h\n",
    "        print(v)\n",
    "    def area(self):\n",
    "        a = self.l*self.b\n",
    "        print(a)\n",
    "\n",
    "l = int(input(\"Enter l = \"))\n",
    "b = int(input(\"Enter b = \"))\n",
    "h = int(input(\"Enter h = \"))\n",
    "obj = Volume(l,b,h)\n",
    "\n",
    "obj.volume()\n",
    "obj.area()\n",
    "print(obj.l,obj.b)"
   ]
  },
  {
   "cell_type": "code",
   "execution_count": 3,
   "metadata": {},
   "outputs": [],
   "source": [
    "# Inheritance"
   ]
  },
  {
   "cell_type": "code",
   "execution_count": 4,
   "metadata": {},
   "outputs": [],
   "source": [
    "class A:         #parent class\n",
    "    pass\n",
    "\n",
    "class B(A):      # child class\n",
    "    pass\n",
    "\n",
    "obj = B()"
   ]
  },
  {
   "cell_type": "code",
   "execution_count": 5,
   "metadata": {},
   "outputs": [
    {
     "name": "stdout",
     "output_type": "stream",
     "text": [
      "Enter name = Ram\n",
      "Enter age = 34\n",
      "Hello World I am Ram. I am 34 years old.\n"
     ]
    }
   ],
   "source": [
    "class A:\n",
    "    def __init__(self):\n",
    "        self.name = input(\"Enter name = \")\n",
    "        self.age = int(input(\"Enter age = \"))\n",
    "        \n",
    "class B(A):\n",
    "    def hello(self):\n",
    "        print(f\"Hello World I am {self.name}. I am {self.age} years old.\")\n",
    "        \n",
    "obj = B()\n",
    "obj.hello()"
   ]
  },
  {
   "cell_type": "code",
   "execution_count": 8,
   "metadata": {},
   "outputs": [
    {
     "name": "stdout",
     "output_type": "stream",
     "text": [
      "This is class A\n",
      "This is class B\n",
      "This is class C\n"
     ]
    }
   ],
   "source": [
    "#multilevel\n",
    "class A:\n",
    "    print(\"This is class A\")\n",
    "class B(A):\n",
    "    print(\"This is class B\")\n",
    "class C(B):\n",
    "    print(\"This is class C\")\n",
    "\n",
    "obj = C()"
   ]
  },
  {
   "cell_type": "code",
   "execution_count": 12,
   "metadata": {},
   "outputs": [
    {
     "name": "stdout",
     "output_type": "stream",
     "text": [
      "This is class A\n",
      "This is class B\n",
      "This is class C\n"
     ]
    }
   ],
   "source": [
    "#multiple\n",
    "class A:\n",
    "    print(\"This is class A\")\n",
    "\n",
    "class B:\n",
    "    print(\"This is class B\")\n",
    "\n",
    "class C(A,B):\n",
    "    print(\"This is class C\")\n",
    "\n",
    "obj = C()"
   ]
  },
  {
   "cell_type": "code",
   "execution_count": 3,
   "metadata": {},
   "outputs": [
    {
     "name": "stdout",
     "output_type": "stream",
     "text": [
      "Enter name = Ram\n",
      "Enter age = 34\n",
      "Enter add = Kathmandu\n",
      "Hello World I am Ram. I am 34 years old. I am from Kathmandu\n",
      "My add is Kathmandu\n"
     ]
    }
   ],
   "source": [
    "class A:\n",
    "    def __init__(self,add):\n",
    "        self.add =add\n",
    "        \n",
    "    def my_add(self):\n",
    "        return self.add\n",
    "        \n",
    "class B(A):\n",
    "    def __init__(self,name,age,add):\n",
    "        self.name = name\n",
    "        self.age = age\n",
    "        A.__init__(self,add)\n",
    "    def hello(self):\n",
    "        print(f\"Hello World I am {self.name}. I am {self.age} years old. I am from {self.add}\")\n",
    "\n",
    "name = input(\"Enter name = \")\n",
    "age = int(input(\"Enter age = \"))\n",
    "add = input(\"Enter add = \")\n",
    "\n",
    "obj = B(name,age,add)\n",
    "obj.hello()\n",
    "address = obj.my_add()\n",
    "print(f\"My add is {address}\")"
   ]
  },
  {
   "cell_type": "code",
   "execution_count": null,
   "metadata": {},
   "outputs": [],
   "source": [
    "# WAP to create a data entry application using inheritance"
   ]
  },
  {
   "cell_type": "code",
   "execution_count": 2,
   "metadata": {},
   "outputs": [
    {
     "name": "stdout",
     "output_type": "stream",
     "text": [
      "Enter name = Ram\n",
      "Enter age = 34\n",
      "Enter add = Kathmandu\n",
      "Hello World I am Ram. I am 34 years old. I am from Kathmandu\n",
      "Hello World I am Ram. I am 34. I am from Kathmandu\n"
     ]
    }
   ],
   "source": [
    "class A:\n",
    "    def __init__(self,add):\n",
    "        self.add =add\n",
    "        \n",
    "    def my_add(self):\n",
    "        return self.add\n",
    "    \n",
    "class B(A):\n",
    "    def __init__(self,age,add):\n",
    "        self.age = age\n",
    "        A.__init__(self,add)\n",
    "    def my_info(self):\n",
    "        print(f\"Hello World I am Ram. I am {self.age}. I am from {add}\")\n",
    "        \n",
    "class C(B):\n",
    "    def __init__(self,name,age,add):\n",
    "        self.name = name\n",
    "        B.__init__(self,age,add)\n",
    "    def hello(self):\n",
    "        print(f\"Hello World I am {self.name}. I am {self.age} years old. I am from {self.add}\")\n",
    "\n",
    "name = input(\"Enter name = \")\n",
    "age = int(input(\"Enter age = \"))\n",
    "add = input(\"Enter add = \")\n",
    "\n",
    "obj = C(name,age,add)\n",
    "obj.hello()\n",
    "obj.my_info()"
   ]
  },
  {
   "cell_type": "code",
   "execution_count": 4,
   "metadata": {},
   "outputs": [
    {
     "name": "stdout",
     "output_type": "stream",
     "text": [
      "Enter name = Ram\n",
      "Enter age = 23\n",
      "Enter add = Kathmandu\n",
      "Hello World I am Ram. I am 23 years old. I am from Kathmandu\n",
      "Hello World I am Ram. I am 23.\n"
     ]
    }
   ],
   "source": [
    "class A:\n",
    "    def __init__(self,add):\n",
    "        self.add =add\n",
    "        \n",
    "    def my_add(self):\n",
    "        return self.add\n",
    "    \n",
    "class B:\n",
    "    def __init__(self,age):\n",
    "        self.age = age\n",
    "    def my_info(self):\n",
    "        print(f\"Hello World I am Ram. I am {self.age}.\")\n",
    "        \n",
    "class C(A,B):\n",
    "    def __init__(self,name,age,add):\n",
    "        self.name = name\n",
    "        B.__init__(self,age)\n",
    "        A.__init__(self,add)\n",
    "    def hello(self):\n",
    "        print(f\"Hello World I am {self.name}. I am {self.age} years old. I am from {self.add}\")\n",
    "\n",
    "name = input(\"Enter name = \")\n",
    "age = int(input(\"Enter age = \"))\n",
    "add = input(\"Enter add = \")\n",
    "\n",
    "obj = C(name,age,add)\n",
    "obj.hello()\n",
    "obj.my_info()"
   ]
  },
  {
   "cell_type": "code",
   "execution_count": 1,
   "metadata": {},
   "outputs": [
    {
     "name": "stdout",
     "output_type": "stream",
     "text": [
      "Ram\n",
      "23\n",
      "Kathmandu\n"
     ]
    }
   ],
   "source": [
    "#public properties\n",
    "class Info:\n",
    "    def __init__(self,name,age,add):\n",
    "        self.name = name\n",
    "        self.age = age\n",
    "        self.add = add\n",
    "        \n",
    "        \n",
    "obj = Info(\"Ram\",23,\"Kathmandu\")\n",
    "print(obj.name)\n",
    "print(obj.age)\n",
    "print(obj.add)"
   ]
  },
  {
   "cell_type": "code",
   "execution_count": 5,
   "metadata": {},
   "outputs": [
    {
     "name": "stdout",
     "output_type": "stream",
     "text": [
      "Ram\n",
      "23\n",
      "Kathmandu\n"
     ]
    }
   ],
   "source": [
    "#protected properties\n",
    "class Info:\n",
    "    def __init__(self,name,age,add):\n",
    "        self._name = name\n",
    "        self._age = age\n",
    "        self._add = add\n",
    "        \n",
    "        \n",
    "obj = Info(\"Ram\",23,\"Kathmandu\")\n",
    "print(obj._name)\n",
    "print(obj._age)\n",
    "print(obj._add)"
   ]
  },
  {
   "cell_type": "code",
   "execution_count": 6,
   "metadata": {},
   "outputs": [
    {
     "ename": "AttributeError",
     "evalue": "'Info' object has no attribute '__name'",
     "output_type": "error",
     "traceback": [
      "\u001b[1;31m---------------------------------------------------------------------------\u001b[0m",
      "\u001b[1;31mAttributeError\u001b[0m                            Traceback (most recent call last)",
      "\u001b[1;32m~\\AppData\\Local\\Temp/ipykernel_1956/4226474002.py\u001b[0m in \u001b[0;36m<module>\u001b[1;34m\u001b[0m\n\u001b[0;32m      8\u001b[0m \u001b[1;33m\u001b[0m\u001b[0m\n\u001b[0;32m      9\u001b[0m \u001b[0mobj\u001b[0m \u001b[1;33m=\u001b[0m \u001b[0mInfo\u001b[0m\u001b[1;33m(\u001b[0m\u001b[1;34m\"Ram\"\u001b[0m\u001b[1;33m,\u001b[0m\u001b[1;36m23\u001b[0m\u001b[1;33m,\u001b[0m\u001b[1;34m\"Kathmandu\"\u001b[0m\u001b[1;33m)\u001b[0m\u001b[1;33m\u001b[0m\u001b[1;33m\u001b[0m\u001b[0m\n\u001b[1;32m---> 10\u001b[1;33m \u001b[0mprint\u001b[0m\u001b[1;33m(\u001b[0m\u001b[0mobj\u001b[0m\u001b[1;33m.\u001b[0m\u001b[0m__name\u001b[0m\u001b[1;33m)\u001b[0m\u001b[1;33m\u001b[0m\u001b[1;33m\u001b[0m\u001b[0m\n\u001b[0m\u001b[0;32m     11\u001b[0m \u001b[0mprint\u001b[0m\u001b[1;33m(\u001b[0m\u001b[0mobj\u001b[0m\u001b[1;33m.\u001b[0m\u001b[0m__age\u001b[0m\u001b[1;33m)\u001b[0m\u001b[1;33m\u001b[0m\u001b[1;33m\u001b[0m\u001b[0m\n\u001b[0;32m     12\u001b[0m \u001b[0mprint\u001b[0m\u001b[1;33m(\u001b[0m\u001b[0mobj\u001b[0m\u001b[1;33m.\u001b[0m\u001b[0m__add\u001b[0m\u001b[1;33m)\u001b[0m\u001b[1;33m\u001b[0m\u001b[1;33m\u001b[0m\u001b[0m\n",
      "\u001b[1;31mAttributeError\u001b[0m: 'Info' object has no attribute '__name'"
     ]
    }
   ],
   "source": [
    "#private properties\n",
    "class Info:\n",
    "    def __init__(self,name,age,add):\n",
    "        self.__name = name\n",
    "        self.__age = age\n",
    "        self.__add = add\n",
    "        \n",
    "        \n",
    "obj = Info(\"Ram\",23,\"Kathmandu\")\n",
    "print(obj.__name)\n",
    "print(obj.__age)\n",
    "print(obj.__add)"
   ]
  },
  {
   "cell_type": "code",
   "execution_count": 7,
   "metadata": {},
   "outputs": [
    {
     "name": "stdout",
     "output_type": "stream",
     "text": [
      "Ram\n",
      "23\n",
      "Kathmandu\n"
     ]
    }
   ],
   "source": [
    "#private properties\n",
    "class Info:\n",
    "    def __init__(self,name,age,add):\n",
    "        self.__name = name\n",
    "        self.__age = age\n",
    "        self.__add = add\n",
    "        \n",
    "        \n",
    "obj = Info(\"Ram\",23,\"Kathmandu\")\n",
    "print(obj._Info__name)\n",
    "print(obj._Info__age)\n",
    "print(obj._Info__add)"
   ]
  },
  {
   "cell_type": "code",
   "execution_count": 9,
   "metadata": {},
   "outputs": [
    {
     "name": "stdout",
     "output_type": "stream",
     "text": [
      "Enter name = Ram\n",
      "Enter age = 34\n",
      "Enter address = Kathmsndu\n",
      "Hello World I am Ram. I am 34 years old.\n",
      "Hello World I am Ram.\n",
      "        I am from Kathmsndu. I am 34 years old.\n"
     ]
    }
   ],
   "source": [
    "class A:\n",
    "    def __init__(self):\n",
    "        self.name = input(\"Enter name = \")\n",
    "        self._age = int(input(\"Enter age = \"))\n",
    "        self.__add = input(\"Enter address = \")\n",
    "        \n",
    "    def a(self):\n",
    "        print(f'''Hello World I am {self.name}.I am from {self.__add}. I am {self._age} years old.''')\n",
    "        \n",
    "class B(A):\n",
    "    def hello(self):\n",
    "        print(f\"Hello World I am {self.name}. I am {self._age} years old.\")\n",
    "        \n",
    "obj = B()\n",
    "obj.hello()\n",
    "obj.a()"
   ]
  },
  {
   "cell_type": "code",
   "execution_count": 16,
   "metadata": {},
   "outputs": [
    {
     "name": "stdout",
     "output_type": "stream",
     "text": [
      "enter name=Ram\n",
      "enter course=Python\n",
      "Here is the certificate of Python\n",
      "Ram Python\n"
     ]
    }
   ],
   "source": [
    "class A:\n",
    "    def __init__(self):\n",
    "        self.name=input(\"enter name=\")\n",
    "        self.course=input(\"enter course=\")\n",
    "       \n",
    "    def Hello(self):\n",
    "        pass\n",
    "    \n",
    "class B(A):\n",
    "    def courses(self):\n",
    "        return (f\"Hello {self.name} .You have enrolled into {self.course} .\")\n",
    "              \n",
    "class C(B):\n",
    "    def certificate(self):\n",
    "        print(f\"Here is the certificate of {self.course}\")\n",
    "        \n",
    "        \n",
    "obj=C()\n",
    "obj.courses()\n",
    "obj.certificate()\n",
    "print(obj.name,obj.course)"
   ]
  },
  {
   "cell_type": "code",
   "execution_count": null,
   "metadata": {},
   "outputs": [],
   "source": [
    "class A:\n",
    "    def __init__(self,add):\n",
    "        self.add =add\n",
    "        \n",
    "    def my_add(self):\n",
    "        return self.add\n",
    "    \n",
    "class B:\n",
    "    def __init__(self,age):\n",
    "        self._age = age\n",
    "    def my_info(self):\n",
    "        print(f\"Hello World I am Ram. I am {self.age}.\")\n",
    "        \n",
    "class C(A,B):\n",
    "    def __init__(self,name,age,add):\n",
    "        self.__name = name\n",
    "        B.__init__(self,age)\n",
    "        A.__init__(self,add)\n",
    "    def hello(self):\n",
    "        print(f\"Hello World I am {self.__name}. I am {self._age} years old. I am from {self.add}\")\n",
    "\n",
    "name = input(\"Enter name = \")\n",
    "age = int(input(\"Enter age = \"))\n",
    "add = input(\"Enter add = \")\n",
    "\n",
    "obj = C(name,age,add)\n",
    "obj.hello()\n",
    "obj.my_info()"
   ]
  },
  {
   "cell_type": "code",
   "execution_count": 18,
   "metadata": {},
   "outputs": [
    {
     "name": "stdout",
     "output_type": "stream",
     "text": [
      "Parrot can fly\n",
      "Parrot can't swim\n",
      "Penguin can't fly\n",
      "Penguin can swim\n"
     ]
    }
   ],
   "source": [
    "class Parrot:\n",
    "    def fly(self):\n",
    "        print(\"Parrot can fly\")\n",
    "    def swim(self):\n",
    "        print(\"Parrot can't swim\")\n",
    "        \n",
    "class Penguin:\n",
    "    def fly(self):\n",
    "        print(\"Penguin can't fly\")\n",
    "    def swim(self):\n",
    "        print(\"Penguin can swim\")\n",
    "        \n",
    "        \n",
    "# common interface\n",
    "def flying_test(bird):\n",
    "    bird.fly()\n",
    "    bird.swim()\n",
    "    \n",
    "#instantiate objects\n",
    "blu = Parrot()\n",
    "peggy = Penguin()\n",
    "# passing the object\n",
    "flying_test(blu)\n",
    "flying_test(peggy)"
   ]
  },
  {
   "cell_type": "code",
   "execution_count": null,
   "metadata": {},
   "outputs": [],
   "source": [
    "# Wap tp create a data entry application using class object and inheritance\n",
    "import pandas as pd\n",
    "f=open('results.csv','w')\n",
    "f.write(\"Name,Roll,Physics,Math,English,CS,Nepali,Total,Percentage\\n\")\n",
    "f.close()\n",
    "class N:\n",
    "    def __init__(self,name):\n",
    "        self.name=name\n",
    "    def _stuname(self):\n",
    "        return self.name\n",
    "class R:\n",
    "    def __init__(self,roll):\n",
    "        self.roll=roll\n",
    "    def _sturoll(self):\n",
    "        return self.roll\n",
    "class Calc(N,R):\n",
    "    def __init__(self,s1,s2,s3,s4,s5,name,roll):\n",
    "        self.s1=s1\n",
    "        self.s2=s2\n",
    "        self.s3=s3\n",
    "        self.s4=s4\n",
    "        self.s5=s5\n",
    "        N.__init__(self,name)\n",
    "        R.__init__(self,roll)\n",
    "    def calcn(self):\n",
    "        total=self.s1+self.s2+self.s3+self.s4+self.s5\n",
    "        percent=(total/500)*100\n",
    "        res=[total, percent]\n",
    "        return res\n",
    "    def add(self):\n",
    "        f=open('results.csv','a')\n",
    "        res=self.calcn()\n",
    "        data=f\"{self.name},{self.roll}​​​​​​,{​​​​​​self.s1}​​​​​​,{​​​​​​self.s2}​​​​​​,{​​​​​​self.s3}​​​​​​,{​​​​​​self.s4}​​​​​​,{​​​​​​self.s5}​​​​​​,{​​​​​​res[0]}​​​​​​,{​​​​​​res[1]}​​​​​​\\n\"\n",
    "        f.write(data)\n",
    "        return df\n",
    " \n",
    "\n",
    "i=int(input(\"Enter number = \"))\n",
    "for j in range(i):\n",
    "    name=input(\"Enter Name: \")\n",
    "    roll=int(input(\"Enter Roll: \"))\n",
    "    s1=float(input(\"Marks of physics: \"))\n",
    "    s2=float(input(\"Marks of maths: \"))\n",
    "    s3=float(input(\"Marks of English: \"))\n",
    "    s4=float(input(\"Marks of CS: \"))\n",
    "    s5=float(input(\"Marks of Nepali: \"))\n",
    "    stu=Calc(s1,s2,s3,s4,s5,name,roll)\n",
    "    stu.add()  \n",
    "df=pd.read_csv('results.csv')\n",
    "df\n"
   ]
  }
 ],
 "metadata": {
  "kernelspec": {
   "display_name": "Python 3 (ipykernel)",
   "language": "python",
   "name": "python3"
  },
  "language_info": {
   "codemirror_mode": {
    "name": "ipython",
    "version": 3
   },
   "file_extension": ".py",
   "mimetype": "text/x-python",
   "name": "python",
   "nbconvert_exporter": "python",
   "pygments_lexer": "ipython3",
   "version": "3.7.1"
  }
 },
 "nbformat": 4,
 "nbformat_minor": 2
}
